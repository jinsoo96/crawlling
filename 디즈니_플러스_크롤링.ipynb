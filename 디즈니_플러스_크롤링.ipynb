{
  "cells": [
    {
      "cell_type": "code",
      "execution_count": null,
      "metadata": {
        "id": "gP6eKsqDUDdx"
      },
      "outputs": [],
      "source": [
        "import pandas as pd\n",
        "import numpy as np\n",
        "import selenium\n",
        "from selenium import webdriver\n",
        "from selenium.webdriver.chrome.service import Service\n",
        "from selenium.webdriver.common.by import By\n",
        "import re\n",
        "import time\n",
        "from selenium.webdriver import ActionChains\n",
        "\n",
        "import urllib.request\n",
        "from selenium.webdriver.common.keys import Keys"
      ]
    },
    {
      "cell_type": "code",
      "execution_count": null,
      "metadata": {
        "id": "n9TVkCuIUDdz",
        "outputId": "48c6ebdb-177f-498f-d862-ef18e4077990"
      },
      "outputs": [
        {
          "name": "stderr",
          "output_type": "stream",
          "text": [
            "C:\\Users\\NTX550\\AppData\\Local\\Temp\\ipykernel_14280\\3586157000.py:1: DeprecationWarning: executable_path has been deprecated, please pass in a Service object\n",
            "  driver = webdriver.Chrome(\"chromedriver/chromedriver.exe\")\n"
          ]
        }
      ],
      "source": [
        "driver = webdriver.Chrome(\"chromedriver/chromedriver.exe\")\n",
        "url = 'https://www.disneyplus.com/ko-kr/brand/marvel?cid=DSS-Search-Google-71700000088339394-&s_kwcid=AL!8468!3!620347232144!e!!g!!%EB%94%94%EC%A6%88%EB%8B%88%20%ED%94%8C%EB%9F%AC%EC%8A%A4&gclid=CjwKCAiA76-dBhByEiwAA0_s9USar7YfyEoniZr_Ixz5ARUBCFcz3LXfwWWxCDt6vZgdCxQoQpIumhoCjHgQAvD_BwE&gclsrc=aw.ds'\n",
        "driver.get(url)"
      ]
    },
    {
      "cell_type": "code",
      "execution_count": null,
      "metadata": {
        "id": "L0VrDsHWUDd0"
      },
      "outputs": [],
      "source": [
        "item_path = '.gv2-asset'\n",
        "item = driver.find_elements(By.CSS_SELECTOR, item_path)"
      ]
    },
    {
      "cell_type": "markdown",
      "metadata": {
        "id": "rwxLpXSdUDd1"
      },
      "source": [
        "# 테스트 크롤링"
      ]
    },
    {
      "cell_type": "code",
      "execution_count": null,
      "metadata": {
        "id": "SYMG_sGBUDd2",
        "outputId": "24abf37f-3123-4c95-cb4d-bedc097ebce8"
      },
      "outputs": [
        {
          "data": {
            "text/plain": [
              "[<selenium.webdriver.remote.webelement.WebElement (session=\"dd4c46874a7c6bcc35fe0dafb2f86ef5\", element=\"4180b070-1560-41fc-a9b1-e7d9820a899f\")>,\n",
              " <selenium.webdriver.remote.webelement.WebElement (session=\"dd4c46874a7c6bcc35fe0dafb2f86ef5\", element=\"08199da3-3255-42a7-acae-b0dbd65913f7\")>,\n",
              " <selenium.webdriver.remote.webelement.WebElement (session=\"dd4c46874a7c6bcc35fe0dafb2f86ef5\", element=\"708f1c49-ffe9-41b9-b843-688a93dbc46a\")>,\n",
              " <selenium.webdriver.remote.webelement.WebElement (session=\"dd4c46874a7c6bcc35fe0dafb2f86ef5\", element=\"dce7d91d-b720-42ce-9cb8-e76f056bb4e1\")>,\n",
              " <selenium.webdriver.remote.webelement.WebElement (session=\"dd4c46874a7c6bcc35fe0dafb2f86ef5\", element=\"6528bc64-1314-4bb0-930f-b79471f83b5b\")>,\n",
              " <selenium.webdriver.remote.webelement.WebElement (session=\"dd4c46874a7c6bcc35fe0dafb2f86ef5\", element=\"ad54ae5a-b6a7-4476-b974-4cc9dde69cf2\")>,\n",
              " <selenium.webdriver.remote.webelement.WebElement (session=\"dd4c46874a7c6bcc35fe0dafb2f86ef5\", element=\"da016da6-13fa-462b-8b3e-18c633d8ca89\")>,\n",
              " <selenium.webdriver.remote.webelement.WebElement (session=\"dd4c46874a7c6bcc35fe0dafb2f86ef5\", element=\"d48834e3-25f1-4f22-b4ab-6ff78e359243\")>,\n",
              " <selenium.webdriver.remote.webelement.WebElement (session=\"dd4c46874a7c6bcc35fe0dafb2f86ef5\", element=\"e5b2b8bf-836a-4625-bebb-299482e33e2a\")>,\n",
              " <selenium.webdriver.remote.webelement.WebElement (session=\"dd4c46874a7c6bcc35fe0dafb2f86ef5\", element=\"e5d93f12-1509-42c9-9c36-951eec111ab5\")>,\n",
              " <selenium.webdriver.remote.webelement.WebElement (session=\"dd4c46874a7c6bcc35fe0dafb2f86ef5\", element=\"29ad9f92-185c-46c8-bf97-529b07dc49c8\")>,\n",
              " <selenium.webdriver.remote.webelement.WebElement (session=\"dd4c46874a7c6bcc35fe0dafb2f86ef5\", element=\"bece5801-69fa-4c47-aa96-1d6f8b9e6419\")>,\n",
              " <selenium.webdriver.remote.webelement.WebElement (session=\"dd4c46874a7c6bcc35fe0dafb2f86ef5\", element=\"125a975b-523e-4254-81ba-0b8a1a6c2252\")>,\n",
              " <selenium.webdriver.remote.webelement.WebElement (session=\"dd4c46874a7c6bcc35fe0dafb2f86ef5\", element=\"87153994-dfe1-4b87-aec8-46feee625c06\")>,\n",
              " <selenium.webdriver.remote.webelement.WebElement (session=\"dd4c46874a7c6bcc35fe0dafb2f86ef5\", element=\"481c0b0c-2c0f-4801-b023-9d6224b0ceeb\")>,\n",
              " <selenium.webdriver.remote.webelement.WebElement (session=\"dd4c46874a7c6bcc35fe0dafb2f86ef5\", element=\"f1fe1d8e-739d-4a47-ac8d-6436304261ac\")>,\n",
              " <selenium.webdriver.remote.webelement.WebElement (session=\"dd4c46874a7c6bcc35fe0dafb2f86ef5\", element=\"86415085-a581-4461-a5da-234271635692\")>,\n",
              " <selenium.webdriver.remote.webelement.WebElement (session=\"dd4c46874a7c6bcc35fe0dafb2f86ef5\", element=\"c6ef2265-3a96-4669-a191-98b9446ece7d\")>,\n",
              " <selenium.webdriver.remote.webelement.WebElement (session=\"dd4c46874a7c6bcc35fe0dafb2f86ef5\", element=\"187eee30-7126-4f5b-8990-fbefa2139276\")>,\n",
              " <selenium.webdriver.remote.webelement.WebElement (session=\"dd4c46874a7c6bcc35fe0dafb2f86ef5\", element=\"1aab8b1c-58c5-4a0b-9f5b-26aa76a9bddf\")>,\n",
              " <selenium.webdriver.remote.webelement.WebElement (session=\"dd4c46874a7c6bcc35fe0dafb2f86ef5\", element=\"5bbeebc4-bb82-4ba4-a6ef-1dd36deb3cbc\")>,\n",
              " <selenium.webdriver.remote.webelement.WebElement (session=\"dd4c46874a7c6bcc35fe0dafb2f86ef5\", element=\"c396d79e-02cb-46de-a662-b2e8435e7415\")>,\n",
              " <selenium.webdriver.remote.webelement.WebElement (session=\"dd4c46874a7c6bcc35fe0dafb2f86ef5\", element=\"554f6399-fa8b-4551-b0d4-5d5d111f136f\")>,\n",
              " <selenium.webdriver.remote.webelement.WebElement (session=\"dd4c46874a7c6bcc35fe0dafb2f86ef5\", element=\"c17fbd79-baba-42a6-a09f-025ff7ba2358\")>,\n",
              " <selenium.webdriver.remote.webelement.WebElement (session=\"dd4c46874a7c6bcc35fe0dafb2f86ef5\", element=\"42bbaea3-f804-4f8b-a159-6b3d4d53dfa5\")>,\n",
              " <selenium.webdriver.remote.webelement.WebElement (session=\"dd4c46874a7c6bcc35fe0dafb2f86ef5\", element=\"2905d65c-1f29-40c5-9f1c-8d5e6dcf53e1\")>,\n",
              " <selenium.webdriver.remote.webelement.WebElement (session=\"dd4c46874a7c6bcc35fe0dafb2f86ef5\", element=\"a82b0c1a-241d-47ef-bfd3-337b4006f866\")>,\n",
              " <selenium.webdriver.remote.webelement.WebElement (session=\"dd4c46874a7c6bcc35fe0dafb2f86ef5\", element=\"4cabe650-5581-44fc-9b9c-e0633fb3180a\")>,\n",
              " <selenium.webdriver.remote.webelement.WebElement (session=\"dd4c46874a7c6bcc35fe0dafb2f86ef5\", element=\"cb6b4f77-4611-42f0-9fa4-a14115ee453e\")>,\n",
              " <selenium.webdriver.remote.webelement.WebElement (session=\"dd4c46874a7c6bcc35fe0dafb2f86ef5\", element=\"d5d935b9-aeec-42b6-b126-5ab3e3a5a7e6\")>,\n",
              " <selenium.webdriver.remote.webelement.WebElement (session=\"dd4c46874a7c6bcc35fe0dafb2f86ef5\", element=\"89d79f52-7670-49a4-b999-9cc7d490c664\")>,\n",
              " <selenium.webdriver.remote.webelement.WebElement (session=\"dd4c46874a7c6bcc35fe0dafb2f86ef5\", element=\"8f576477-b7e6-45b4-89c3-0649fb9dbb6d\")>,\n",
              " <selenium.webdriver.remote.webelement.WebElement (session=\"dd4c46874a7c6bcc35fe0dafb2f86ef5\", element=\"0e5786d0-6998-4108-ad2c-d07c04b27cf8\")>,\n",
              " <selenium.webdriver.remote.webelement.WebElement (session=\"dd4c46874a7c6bcc35fe0dafb2f86ef5\", element=\"bff02988-276e-4373-8199-8e390bc6deb7\")>,\n",
              " <selenium.webdriver.remote.webelement.WebElement (session=\"dd4c46874a7c6bcc35fe0dafb2f86ef5\", element=\"6a4c1b56-dcbf-4337-8d1b-4f0de0fcdb0a\")>,\n",
              " <selenium.webdriver.remote.webelement.WebElement (session=\"dd4c46874a7c6bcc35fe0dafb2f86ef5\", element=\"6a152084-032e-4895-93c2-1574d78a5cd8\")>,\n",
              " <selenium.webdriver.remote.webelement.WebElement (session=\"dd4c46874a7c6bcc35fe0dafb2f86ef5\", element=\"a80064e1-a644-454d-8814-9c7473ddf8d6\")>,\n",
              " <selenium.webdriver.remote.webelement.WebElement (session=\"dd4c46874a7c6bcc35fe0dafb2f86ef5\", element=\"a6359e7e-13a2-4b82-8377-037e634bde65\")>,\n",
              " <selenium.webdriver.remote.webelement.WebElement (session=\"dd4c46874a7c6bcc35fe0dafb2f86ef5\", element=\"27c20f9a-cce7-4618-9466-3cdaf213332b\")>,\n",
              " <selenium.webdriver.remote.webelement.WebElement (session=\"dd4c46874a7c6bcc35fe0dafb2f86ef5\", element=\"68401ec6-8afa-4fe4-aba0-b538e234ce34\")>,\n",
              " <selenium.webdriver.remote.webelement.WebElement (session=\"dd4c46874a7c6bcc35fe0dafb2f86ef5\", element=\"bf493c04-037f-482a-acff-9764cf28fcf3\")>,\n",
              " <selenium.webdriver.remote.webelement.WebElement (session=\"dd4c46874a7c6bcc35fe0dafb2f86ef5\", element=\"cee9481e-1a8b-406e-acd3-901ba468de18\")>,\n",
              " <selenium.webdriver.remote.webelement.WebElement (session=\"dd4c46874a7c6bcc35fe0dafb2f86ef5\", element=\"8506ef44-7292-4af7-af30-d284b23910fc\")>,\n",
              " <selenium.webdriver.remote.webelement.WebElement (session=\"dd4c46874a7c6bcc35fe0dafb2f86ef5\", element=\"cc0e84ec-fdd5-40b9-b1e8-290feff3dac9\")>,\n",
              " <selenium.webdriver.remote.webelement.WebElement (session=\"dd4c46874a7c6bcc35fe0dafb2f86ef5\", element=\"d35f30b2-895b-4438-be5a-188776ec8343\")>,\n",
              " <selenium.webdriver.remote.webelement.WebElement (session=\"dd4c46874a7c6bcc35fe0dafb2f86ef5\", element=\"9a76b5b0-0dea-4abd-ade1-aa0557a85b78\")>,\n",
              " <selenium.webdriver.remote.webelement.WebElement (session=\"dd4c46874a7c6bcc35fe0dafb2f86ef5\", element=\"b4059f3b-73b8-43b5-9a79-60425febb525\")>,\n",
              " <selenium.webdriver.remote.webelement.WebElement (session=\"dd4c46874a7c6bcc35fe0dafb2f86ef5\", element=\"c8957b76-cf94-4a48-9dc5-ac5bdbd3fbad\")>,\n",
              " <selenium.webdriver.remote.webelement.WebElement (session=\"dd4c46874a7c6bcc35fe0dafb2f86ef5\", element=\"f19a0539-e644-4834-9a9d-e3f5b19d45fc\")>,\n",
              " <selenium.webdriver.remote.webelement.WebElement (session=\"dd4c46874a7c6bcc35fe0dafb2f86ef5\", element=\"903e8855-e7e6-4861-aba0-17acec0da4da\")>,\n",
              " <selenium.webdriver.remote.webelement.WebElement (session=\"dd4c46874a7c6bcc35fe0dafb2f86ef5\", element=\"36421155-918c-4d48-ad8e-b86567479662\")>,\n",
              " <selenium.webdriver.remote.webelement.WebElement (session=\"dd4c46874a7c6bcc35fe0dafb2f86ef5\", element=\"f8e52adc-142f-4af1-aa06-b87522b32713\")>,\n",
              " <selenium.webdriver.remote.webelement.WebElement (session=\"dd4c46874a7c6bcc35fe0dafb2f86ef5\", element=\"064efbfb-ee97-4404-b657-31363848a778\")>,\n",
              " <selenium.webdriver.remote.webelement.WebElement (session=\"dd4c46874a7c6bcc35fe0dafb2f86ef5\", element=\"89a1f17b-5366-4576-8991-e8f277aeeb9a\")>,\n",
              " <selenium.webdriver.remote.webelement.WebElement (session=\"dd4c46874a7c6bcc35fe0dafb2f86ef5\", element=\"44182009-8e2d-4332-a6d7-0647e53c360f\")>,\n",
              " <selenium.webdriver.remote.webelement.WebElement (session=\"dd4c46874a7c6bcc35fe0dafb2f86ef5\", element=\"8c5b3764-7baf-4686-a588-d8afed3152ef\")>,\n",
              " <selenium.webdriver.remote.webelement.WebElement (session=\"dd4c46874a7c6bcc35fe0dafb2f86ef5\", element=\"b5199899-7b4b-47b8-8617-ce560e1d5215\")>,\n",
              " <selenium.webdriver.remote.webelement.WebElement (session=\"dd4c46874a7c6bcc35fe0dafb2f86ef5\", element=\"a1b52085-a478-4c74-bf72-a37ffb1bab24\")>,\n",
              " <selenium.webdriver.remote.webelement.WebElement (session=\"dd4c46874a7c6bcc35fe0dafb2f86ef5\", element=\"6f7585af-60be-47f4-a816-2e2cbc452f05\")>,\n",
              " <selenium.webdriver.remote.webelement.WebElement (session=\"dd4c46874a7c6bcc35fe0dafb2f86ef5\", element=\"537c4889-e2c3-4cf8-a5b2-7f932ff324ef\")>,\n",
              " <selenium.webdriver.remote.webelement.WebElement (session=\"dd4c46874a7c6bcc35fe0dafb2f86ef5\", element=\"66e42797-0fc3-4b6a-b90f-8c8944bfc233\")>,\n",
              " <selenium.webdriver.remote.webelement.WebElement (session=\"dd4c46874a7c6bcc35fe0dafb2f86ef5\", element=\"9291a407-374e-4d18-8c30-11753eea3d97\")>,\n",
              " <selenium.webdriver.remote.webelement.WebElement (session=\"dd4c46874a7c6bcc35fe0dafb2f86ef5\", element=\"e0e9b8c8-22b6-4ac0-8fcf-610b3dbca404\")>,\n",
              " <selenium.webdriver.remote.webelement.WebElement (session=\"dd4c46874a7c6bcc35fe0dafb2f86ef5\", element=\"cdb05534-2b75-4965-b86f-81922a0cb944\")>,\n",
              " <selenium.webdriver.remote.webelement.WebElement (session=\"dd4c46874a7c6bcc35fe0dafb2f86ef5\", element=\"00703bfa-c752-4b65-97e0-442ca8178543\")>,\n",
              " <selenium.webdriver.remote.webelement.WebElement (session=\"dd4c46874a7c6bcc35fe0dafb2f86ef5\", element=\"873c4403-d87b-4e39-a908-b4cc07f8dca7\")>,\n",
              " <selenium.webdriver.remote.webelement.WebElement (session=\"dd4c46874a7c6bcc35fe0dafb2f86ef5\", element=\"bc78da6d-282b-4a39-8f03-a05b68717d77\")>,\n",
              " <selenium.webdriver.remote.webelement.WebElement (session=\"dd4c46874a7c6bcc35fe0dafb2f86ef5\", element=\"8cbd36ef-c8db-495d-b0f8-9eab3ce864b0\")>,\n",
              " <selenium.webdriver.remote.webelement.WebElement (session=\"dd4c46874a7c6bcc35fe0dafb2f86ef5\", element=\"c11cf47c-1699-4df7-ace4-60daecc32dbb\")>,\n",
              " <selenium.webdriver.remote.webelement.WebElement (session=\"dd4c46874a7c6bcc35fe0dafb2f86ef5\", element=\"c8dbe41c-bf28-43b0-ab35-44e88c0e869a\")>,\n",
              " <selenium.webdriver.remote.webelement.WebElement (session=\"dd4c46874a7c6bcc35fe0dafb2f86ef5\", element=\"394e27e2-8d31-4454-8984-b68feca8630a\")>,\n",
              " <selenium.webdriver.remote.webelement.WebElement (session=\"dd4c46874a7c6bcc35fe0dafb2f86ef5\", element=\"22510a81-18e2-46e7-ba46-e3f2993190ae\")>,\n",
              " <selenium.webdriver.remote.webelement.WebElement (session=\"dd4c46874a7c6bcc35fe0dafb2f86ef5\", element=\"9d0c592f-ad9c-4e19-b0b0-65825dc877ed\")>,\n",
              " <selenium.webdriver.remote.webelement.WebElement (session=\"dd4c46874a7c6bcc35fe0dafb2f86ef5\", element=\"5c886870-b45e-4b84-bf78-872d4c3e54ba\")>,\n",
              " <selenium.webdriver.remote.webelement.WebElement (session=\"dd4c46874a7c6bcc35fe0dafb2f86ef5\", element=\"d65defac-ed70-413e-87a2-a3edc04db645\")>,\n",
              " <selenium.webdriver.remote.webelement.WebElement (session=\"dd4c46874a7c6bcc35fe0dafb2f86ef5\", element=\"6098e0a7-59d0-4b48-b69a-4d15adb67845\")>,\n",
              " <selenium.webdriver.remote.webelement.WebElement (session=\"dd4c46874a7c6bcc35fe0dafb2f86ef5\", element=\"767565a4-7b1d-43b7-8f58-12c04c3fe215\")>,\n",
              " <selenium.webdriver.remote.webelement.WebElement (session=\"dd4c46874a7c6bcc35fe0dafb2f86ef5\", element=\"ab1c1fe0-8d0a-4b44-a5d7-ba08d75d2560\")>,\n",
              " <selenium.webdriver.remote.webelement.WebElement (session=\"dd4c46874a7c6bcc35fe0dafb2f86ef5\", element=\"b3edc506-f964-4994-8df9-cd512de655e9\")>,\n",
              " <selenium.webdriver.remote.webelement.WebElement (session=\"dd4c46874a7c6bcc35fe0dafb2f86ef5\", element=\"72aa39bb-f796-4fd5-9262-7d162956c795\")>,\n",
              " <selenium.webdriver.remote.webelement.WebElement (session=\"dd4c46874a7c6bcc35fe0dafb2f86ef5\", element=\"e48c0eb8-b213-4b9e-b5cf-eac9661fccab\")>,\n",
              " <selenium.webdriver.remote.webelement.WebElement (session=\"dd4c46874a7c6bcc35fe0dafb2f86ef5\", element=\"2edfc785-ad88-4aeb-bb98-d0322803437f\")>,\n",
              " <selenium.webdriver.remote.webelement.WebElement (session=\"dd4c46874a7c6bcc35fe0dafb2f86ef5\", element=\"400df5f6-3a08-4635-aebe-7a5a87fd8061\")>,\n",
              " <selenium.webdriver.remote.webelement.WebElement (session=\"dd4c46874a7c6bcc35fe0dafb2f86ef5\", element=\"aa50c042-7669-4527-82bf-6c05ca8e0d9a\")>,\n",
              " <selenium.webdriver.remote.webelement.WebElement (session=\"dd4c46874a7c6bcc35fe0dafb2f86ef5\", element=\"a545f275-b2df-466a-a64e-382a1cf0a0e5\")>,\n",
              " <selenium.webdriver.remote.webelement.WebElement (session=\"dd4c46874a7c6bcc35fe0dafb2f86ef5\", element=\"5d0f6acc-54ca-4a39-92b0-d8708e259b1f\")>,\n",
              " <selenium.webdriver.remote.webelement.WebElement (session=\"dd4c46874a7c6bcc35fe0dafb2f86ef5\", element=\"d6eb5968-151b-4a92-97e5-0b3549812733\")>,\n",
              " <selenium.webdriver.remote.webelement.WebElement (session=\"dd4c46874a7c6bcc35fe0dafb2f86ef5\", element=\"bb5bc58a-2446-4af5-af64-c61a2cd60681\")>,\n",
              " <selenium.webdriver.remote.webelement.WebElement (session=\"dd4c46874a7c6bcc35fe0dafb2f86ef5\", element=\"877d1eb6-2397-48a4-a72b-d8ec23f39899\")>,\n",
              " <selenium.webdriver.remote.webelement.WebElement (session=\"dd4c46874a7c6bcc35fe0dafb2f86ef5\", element=\"463b575a-cdfa-4c28-976a-3c430fbd95b8\")>,\n",
              " <selenium.webdriver.remote.webelement.WebElement (session=\"dd4c46874a7c6bcc35fe0dafb2f86ef5\", element=\"f9fe0a96-12b8-4661-9a04-1df26ca0f078\")>,\n",
              " <selenium.webdriver.remote.webelement.WebElement (session=\"dd4c46874a7c6bcc35fe0dafb2f86ef5\", element=\"afab4058-6c1a-4a40-a310-288c4d6e4509\")>,\n",
              " <selenium.webdriver.remote.webelement.WebElement (session=\"dd4c46874a7c6bcc35fe0dafb2f86ef5\", element=\"aa8c703d-0570-47df-bd71-7527e7707973\")>,\n",
              " <selenium.webdriver.remote.webelement.WebElement (session=\"dd4c46874a7c6bcc35fe0dafb2f86ef5\", element=\"350c2aa6-960b-4135-8a60-4e4892596aea\")>,\n",
              " <selenium.webdriver.remote.webelement.WebElement (session=\"dd4c46874a7c6bcc35fe0dafb2f86ef5\", element=\"7bd4e0d8-9d7e-4c83-8639-cba4f622f40e\")>,\n",
              " <selenium.webdriver.remote.webelement.WebElement (session=\"dd4c46874a7c6bcc35fe0dafb2f86ef5\", element=\"fb261776-b23d-4b2f-bb3b-9d1a34bb0257\")>,\n",
              " <selenium.webdriver.remote.webelement.WebElement (session=\"dd4c46874a7c6bcc35fe0dafb2f86ef5\", element=\"1dbcf64b-3f69-4bb3-858a-65501cce69b7\")>,\n",
              " <selenium.webdriver.remote.webelement.WebElement (session=\"dd4c46874a7c6bcc35fe0dafb2f86ef5\", element=\"d0ed194e-0aeb-464d-9575-2ade206f4647\")>,\n",
              " <selenium.webdriver.remote.webelement.WebElement (session=\"dd4c46874a7c6bcc35fe0dafb2f86ef5\", element=\"ccbe634a-b81a-43ab-93f5-6c97e3b5c256\")>,\n",
              " <selenium.webdriver.remote.webelement.WebElement (session=\"dd4c46874a7c6bcc35fe0dafb2f86ef5\", element=\"da37e8fc-1549-4f35-94e1-c310877b713c\")>,\n",
              " <selenium.webdriver.remote.webelement.WebElement (session=\"dd4c46874a7c6bcc35fe0dafb2f86ef5\", element=\"2b1f8727-ec7e-4b55-a46c-1f03d5497a52\")>,\n",
              " <selenium.webdriver.remote.webelement.WebElement (session=\"dd4c46874a7c6bcc35fe0dafb2f86ef5\", element=\"025bdd09-fdc3-4c52-923e-ca166ed37580\")>,\n",
              " <selenium.webdriver.remote.webelement.WebElement (session=\"dd4c46874a7c6bcc35fe0dafb2f86ef5\", element=\"b6391ddb-006f-408e-9562-80accce41836\")>,\n",
              " <selenium.webdriver.remote.webelement.WebElement (session=\"dd4c46874a7c6bcc35fe0dafb2f86ef5\", element=\"4805e416-e067-443e-908e-3ca85e1aecb1\")>,\n",
              " <selenium.webdriver.remote.webelement.WebElement (session=\"dd4c46874a7c6bcc35fe0dafb2f86ef5\", element=\"4a51068f-87c0-4cfd-b882-51e46327c52d\")>,\n",
              " <selenium.webdriver.remote.webelement.WebElement (session=\"dd4c46874a7c6bcc35fe0dafb2f86ef5\", element=\"c42276d6-6773-4517-8c1f-7326cd6423a0\")>,\n",
              " <selenium.webdriver.remote.webelement.WebElement (session=\"dd4c46874a7c6bcc35fe0dafb2f86ef5\", element=\"29c276b4-be28-4996-9809-fae23181f7a8\")>,\n",
              " <selenium.webdriver.remote.webelement.WebElement (session=\"dd4c46874a7c6bcc35fe0dafb2f86ef5\", element=\"60f34d19-c62b-448a-aaf4-cb07494342ab\")>,\n",
              " <selenium.webdriver.remote.webelement.WebElement (session=\"dd4c46874a7c6bcc35fe0dafb2f86ef5\", element=\"83c3ff66-5e97-43da-b78a-f5a18a0fe517\")>,\n",
              " <selenium.webdriver.remote.webelement.WebElement (session=\"dd4c46874a7c6bcc35fe0dafb2f86ef5\", element=\"138a9547-ecbc-4741-9f67-dcf3226faa3a\")>,\n",
              " <selenium.webdriver.remote.webelement.WebElement (session=\"dd4c46874a7c6bcc35fe0dafb2f86ef5\", element=\"17c8b6ff-72e0-419a-9077-b81b6d6a9aa8\")>,\n",
              " <selenium.webdriver.remote.webelement.WebElement (session=\"dd4c46874a7c6bcc35fe0dafb2f86ef5\", element=\"b7008045-9a94-46ed-b5de-3ec1c8ce24bd\")>,\n",
              " <selenium.webdriver.remote.webelement.WebElement (session=\"dd4c46874a7c6bcc35fe0dafb2f86ef5\", element=\"4b5cba38-ff18-4f4a-8eb3-137a26425982\")>,\n",
              " <selenium.webdriver.remote.webelement.WebElement (session=\"dd4c46874a7c6bcc35fe0dafb2f86ef5\", element=\"9d8793c4-0bf1-4f02-8655-6b788916bf91\")>,\n",
              " <selenium.webdriver.remote.webelement.WebElement (session=\"dd4c46874a7c6bcc35fe0dafb2f86ef5\", element=\"ff6ee9e1-7111-47e0-9f42-00088121c91c\")>,\n",
              " <selenium.webdriver.remote.webelement.WebElement (session=\"dd4c46874a7c6bcc35fe0dafb2f86ef5\", element=\"c55df974-3aac-49b2-bfa8-3fc2635cf38b\")>,\n",
              " <selenium.webdriver.remote.webelement.WebElement (session=\"dd4c46874a7c6bcc35fe0dafb2f86ef5\", element=\"06b67d18-f8e5-4db3-ab60-cdc55e119a1b\")>,\n",
              " <selenium.webdriver.remote.webelement.WebElement (session=\"dd4c46874a7c6bcc35fe0dafb2f86ef5\", element=\"ff158bd7-f61b-4917-8c2a-90a6fbe11d04\")>,\n",
              " <selenium.webdriver.remote.webelement.WebElement (session=\"dd4c46874a7c6bcc35fe0dafb2f86ef5\", element=\"08368a27-7133-4d41-b1f1-7d5fe3d5288d\")>,\n",
              " <selenium.webdriver.remote.webelement.WebElement (session=\"dd4c46874a7c6bcc35fe0dafb2f86ef5\", element=\"40064166-6cda-47e8-a5b8-45b86b054014\")>,\n",
              " <selenium.webdriver.remote.webelement.WebElement (session=\"dd4c46874a7c6bcc35fe0dafb2f86ef5\", element=\"bc535635-55f2-416d-876d-0f0b66f2d6e8\")>,\n",
              " <selenium.webdriver.remote.webelement.WebElement (session=\"dd4c46874a7c6bcc35fe0dafb2f86ef5\", element=\"f654dc1e-10df-4650-87ff-6b619098d2d5\")>,\n",
              " <selenium.webdriver.remote.webelement.WebElement (session=\"dd4c46874a7c6bcc35fe0dafb2f86ef5\", element=\"7d378aff-e07c-438e-89c8-290596c0e7df\")>,\n",
              " <selenium.webdriver.remote.webelement.WebElement (session=\"dd4c46874a7c6bcc35fe0dafb2f86ef5\", element=\"f7acaf1c-44ea-4b26-888c-cf6e5d05e438\")>,\n",
              " <selenium.webdriver.remote.webelement.WebElement (session=\"dd4c46874a7c6bcc35fe0dafb2f86ef5\", element=\"a54b05bc-c33a-4610-96e2-65fd49c6eb4e\")>,\n",
              " <selenium.webdriver.remote.webelement.WebElement (session=\"dd4c46874a7c6bcc35fe0dafb2f86ef5\", element=\"cee6ec14-b602-434c-8fef-7d0d5e95ba50\")>,\n",
              " <selenium.webdriver.remote.webelement.WebElement (session=\"dd4c46874a7c6bcc35fe0dafb2f86ef5\", element=\"53b0b696-c66d-41a3-b869-8919e89076ac\")>,\n",
              " <selenium.webdriver.remote.webelement.WebElement (session=\"dd4c46874a7c6bcc35fe0dafb2f86ef5\", element=\"316e6103-daf0-4b32-b38d-02bfd4571fca\")>,\n",
              " <selenium.webdriver.remote.webelement.WebElement (session=\"dd4c46874a7c6bcc35fe0dafb2f86ef5\", element=\"bc1f59bd-7885-4e14-9654-76eb3e78c1fa\")>,\n",
              " <selenium.webdriver.remote.webelement.WebElement (session=\"dd4c46874a7c6bcc35fe0dafb2f86ef5\", element=\"ee3108c3-f249-4f31-8591-c81eb93e21a3\")>,\n",
              " <selenium.webdriver.remote.webelement.WebElement (session=\"dd4c46874a7c6bcc35fe0dafb2f86ef5\", element=\"58032f2a-e251-405f-8eb0-3b104c65e1c3\")>,\n",
              " <selenium.webdriver.remote.webelement.WebElement (session=\"dd4c46874a7c6bcc35fe0dafb2f86ef5\", element=\"74f1f718-f0f4-4db9-97d9-63e498397dd9\")>,\n",
              " <selenium.webdriver.remote.webelement.WebElement (session=\"dd4c46874a7c6bcc35fe0dafb2f86ef5\", element=\"44e89317-c43c-4b1f-aa37-5b50bed6c295\")>,\n",
              " <selenium.webdriver.remote.webelement.WebElement (session=\"dd4c46874a7c6bcc35fe0dafb2f86ef5\", element=\"d756505a-e586-4e50-929e-602b070d4fd0\")>,\n",
              " <selenium.webdriver.remote.webelement.WebElement (session=\"dd4c46874a7c6bcc35fe0dafb2f86ef5\", element=\"9386b36e-34e3-4c62-8193-8150a01d6645\")>,\n",
              " <selenium.webdriver.remote.webelement.WebElement (session=\"dd4c46874a7c6bcc35fe0dafb2f86ef5\", element=\"297b524e-fd44-415b-aee3-0262dbd300b0\")>,\n",
              " <selenium.webdriver.remote.webelement.WebElement (session=\"dd4c46874a7c6bcc35fe0dafb2f86ef5\", element=\"90c8f8e7-1438-400f-bd17-bc13123d1576\")>,\n",
              " <selenium.webdriver.remote.webelement.WebElement (session=\"dd4c46874a7c6bcc35fe0dafb2f86ef5\", element=\"dfee268f-4668-471d-b58a-204fe73c1e7b\")>]"
            ]
          },
          "execution_count": 56,
          "metadata": {},
          "output_type": "execute_result"
        }
      ],
      "source": [
        "item"
      ]
    },
    {
      "cell_type": "code",
      "execution_count": null,
      "metadata": {
        "id": "4aubH1VVUDd2"
      },
      "outputs": [],
      "source": [
        "item[0].click()"
      ]
    },
    {
      "cell_type": "code",
      "execution_count": null,
      "metadata": {
        "id": "iasOpMY9UDd3",
        "outputId": "fb9980c5-4cb6-4d7c-9bc6-2d195277a1d4"
      },
      "outputs": [
        {
          "name": "stdout",
          "output_type": "stream",
          "text": [
            "마블 비하인드 더 마스크\n",
            "“마블 비하인드 더 마스크”는 오늘날 우리에게 잘 알려져 있고 사랑받는 슈퍼히어로들의 마스크 뒤에 숨어있는 정체가 가지는 힘을 분석하는 특집 다큐멘터리이다. 코믹북이 시작될 무렵 비밀 정체란 “평범한” 삶을 사는 슈퍼히어로들과 악당들에겐 없어서는 안 될 조건이었다. 하지만 여러 세대의 팬들을 거쳐오면서 진정 우리에게 반향을 불러일으키는 것은 마스크 뒤에 숨어있는 캐릭터들이다. 1960년대 초 마블 에이지 코믹스 이후 마블 작가들과 아티스트들은 서서히 전개되는 평등권에 대한 개념을 실험해보기 위해 비밀정체라는 개념을 활용했다. 전설적인 마블의 작품과 이야기는 우리가 살아가고 있는 세상을 반영할 뿐 아니라 우리 자신의 정체성 그리고 우리가 진정 누구인지 보여준다.\n",
            "2021\n",
            "다⁠큐⁠멘⁠터⁠리\n"
          ]
        }
      ],
      "source": [
        "title_path = '//*[@id=\"details_index\"]/div/article/div[4]/h1'\n",
        "desc_path = '//*[@id=\"details_index\"]/div/article/div[4]/div/div[1]/p'\n",
        "year_path = '//*[@id=\"details_index\"]/div/article/div[4]/div/div[2]/div[1]/div[2]/p[2]'\n",
        "genre_path = '//*[@id=\"details_index\"]/div/article/div[4]/div/div[2]/div[1]/div[3]/p[2]'\n",
        "title = driver.find_element(By.XPATH, title_path)\n",
        "desc = driver.find_element(By.XPATH, desc_path)\n",
        "year = driver.find_element(By.XPATH, year_path)\n",
        "genre = driver.find_element(By.XPATH, genre_path)\n",
        "print(title.text)\n",
        "print(desc.text)\n",
        "print(year.text)\n",
        "print(genre.text)"
      ]
    },
    {
      "cell_type": "code",
      "execution_count": null,
      "metadata": {
        "id": "IoQxdIC-UDd3"
      },
      "outputs": [],
      "source": [
        "# movie 라는 변수에 영화를 append 하기\n",
        "\n",
        "movie = []"
      ]
    },
    {
      "cell_type": "markdown",
      "metadata": {
        "id": "z1Xhqv1iUDd3"
      },
      "source": [
        "# 마블 영화 크롤링"
      ]
    },
    {
      "cell_type": "code",
      "execution_count": null,
      "metadata": {
        "id": "pCcLAhcMUDd4"
      },
      "outputs": [],
      "source": [
        "count = 0\n",
        "\n",
        "\n",
        "for i in range(300):\n",
        "    item_path = '.gv2-asset'\n",
        "    item = driver.find_elements(By.CSS_SELECTOR, item_path)\n",
        "    try:\n",
        "        item[i].click()\n",
        "        time.sleep(2)\n",
        "\n",
        "        title_path = '//*[@id=\"details_index\"]/div/article/div[4]/h1'\n",
        "        desc_path = '//*[@id=\"details_index\"]/div/article/div[4]/div/div[1]/p'\n",
        "        year_path = '//*[@id=\"details_index\"]/div/article/div[4]/div/div[2]/div[1]/div[2]/p[2]'\n",
        "        genre_path = '//*[@id=\"details_index\"]/div/article/div[4]/div/div[2]/div[1]/div[3]/p[2]'\n",
        "        title = driver.find_element(By.XPATH, title_path)\n",
        "        desc = driver.find_element(By.XPATH, desc_path)\n",
        "        year = driver.find_element(By.XPATH, year_path)\n",
        "        genre = driver.find_element(By.XPATH, genre_path)\n",
        "        try:\n",
        "            movie.append( [title.text, desc.text, year.text, genre.text] )\n",
        "            driver.back()\n",
        "            time.sleep(2)\n",
        "        except:\n",
        "            driver.back()\n",
        "            time.sleep(2)\n",
        "    except:\n",
        "        pass\n",
        "\n",
        "\n",
        "\n",
        "    count += 1"
      ]
    },
    {
      "cell_type": "code",
      "execution_count": null,
      "metadata": {
        "scrolled": true,
        "id": "v2TiBpowUDd4",
        "outputId": "2fa8746c-0dba-4cf3-d070-ac68c8bd2f94"
      },
      "outputs": [
        {
          "data": {
            "text/plain": [
              "[['마블 비하인드 더 마스크',\n",
              "  '“마블 비하인드 더 마스크”는 오늘날 우리에게 잘 알려져 있고 사랑받는 슈퍼히어로들의 마스크 뒤에 숨어있는 정체가 가지는 힘을 분석하는 특집 다큐멘터리이다. 코믹북이 시작될 무렵 비밀 정체란 “평범한” 삶을 사는 슈퍼히어로들과 악당들에겐 없어서는 안 될 조건이었다. 하지만 여러 세대의 팬들을 거쳐오면서 진정 우리에게 반향을 불러일으키는 것은 마스크 뒤에 숨어있는 캐릭터들이다. 1960년대 초 마블 에이지 코믹스 이후 마블 작가들과 아티스트들은 서서히 전개되는 평등권에 대한 개념을 실험해보기 위해 비밀정체라는 개념을 활용했다. 전설적인 마블의 작품과 이야기는 우리가 살아가고 있는 세상을 반영할 뿐 아니라 우리 자신의 정체성 그리고 우리가 진정 누구인지 보여준다.',\n",
              "  '2021',\n",
              "  '다\\u2060큐\\u2060멘\\u2060터\\u2060리'],\n",
              " ['스파이디, 그리고 놀라운 친구들 (단편)',\n",
              "  '혼자서도 잘 해내는 스파이디. 하지만 그는 영웅 친구들과 악당을 물리치고 곤경에 처한 사람들을 구한다. 스파이디를 돕는 친구들을 만나보자!',\n",
              "  '2021 - 2022',\n",
              "  '키\\u2060즈, 애\\u2060니\\u2060메\\u2060이\\u2060션, 슈\\u2060퍼\\u2060 \\u2060히\\u2060어\\u2060로, 액\\u2060션\\u2060 \\u2060어\\u2060드\\u2060벤\\u2060처'],\n",
              " ['스파이디, 그리고 놀라운 친구들',\n",
              "  '우리가 사랑해 마지않는, 거미줄에 매달려 공중을 누비는 스파이디가 고스트 스파이더(그웬 스테이시), 마일스 모랄레스와 스파이디 팀을 결성한다. 스파이디의 코믹하면서도 충성스러운 스파이더봇, 트레이스-E의 도움으로! 스파이디가 난처한 상황에 처해 슈퍼 히어로의 능력이 더 필요할 때가 찾아와도 안심하시라. 어벤져스 동료가 달려와 도와줄 테니. 스파이디 팀 단독으로든, 다른 어벤져스의 도움을 받든, 이 슈퍼 히어로들은 힘을 합쳐 세상을 구할 것이다.',\n",
              "  '2021 - 2022',\n",
              "  '키\\u2060즈, 애\\u2060니\\u2060메\\u2060이\\u2060션, 슈\\u2060퍼\\u2060 \\u2060히\\u2060어\\u2060로, 액\\u2060션\\u2060 \\u2060어\\u2060드\\u2060벤\\u2060처'],\n",
              " ['가디언즈 오브 갤럭시 홀리데이 스페셜',\n",
              "  '가모라 없이 유독 쓸쓸해 보이는 피터. 그런 그를 위해 가디언즈 오브 갤럭시가 지구로 향한다. 이들의 임무는? 피터에게 잊지 못할 아주 특별한 크리스마스를 선물하는 것!\\n\\n일부 섬광 장면이 빛에 민감한 시청자에게 영향을 줄 수 있음.',\n",
              "  '2022',\n",
              "  'SF, 코\\u2060미\\u2060디, 슈\\u2060퍼\\u2060 \\u2060히\\u2060어\\u2060로, 액\\u2060션\\u2060 \\u2060어\\u2060드\\u2060벤\\u2060처'],\n",
              " ['캡틴 아메리카: 시빌 워',\n",
              "  '이 작품에서 스티브 로저스는 인류를 지키기 위해 지속적으로 애쓰는 어벤져스의 새로운 팀을 이끈다. 하지만 어벤져스가 연관된 다른 사건으로 부차적인 피해가 발생하자 팀을 감독하고 지휘할 이사회 주도하에 책임 체계를 설립하라는 정치적 압력이 증가한다. 새로운 상황은 어벤져스를 분열시키고 결국 두 개의 진영으로 나뉜다. 스티브 로저스가 이끄는 진영은 어벤져스가 정부의 간섭 없이 인류를 지키기를 원하고, 토니 스타크가 이끄는 진영은 정말 놀랍게도 정부의 감독과 책임을 지지하고자 한다.\\n\\n일부 섬광 장면이 빛에 민감한 시청자에게 영향을 줄 수 있음.',\n",
              "  '2016',\n",
              "  'SF, 슈\\u2060퍼\\u2060 \\u2060히\\u2060어\\u2060로, 액\\u2060션\\u2060 \\u2060어\\u2060드\\u2060벤\\u2060처'],\n",
              " ['블랙 팬서',\n",
              "  '시빌 워’ 이후 와칸다의 왕위를 계승한 티찰라(채드윅 보스만)는 와칸다에만 존재하는 최강 희귀 금속 ‘비브라늄’과 왕좌를 노리는 숙적들의 음모가 전세계적인 위협으로 번지자 세상을 구할 히어로 ‘블랙 팬서’로서 피할 수 없는 전쟁에 나선다. 그동안 은둔왕국으로 최고의 기술과 부를 가진 국가임에도 세계 최빈국으로 알려진 와칸다는 이제 변화에 직면하게 되는데..',\n",
              "  '2018',\n",
              "  'SF, 슈\\u2060퍼\\u2060 \\u2060히\\u2060어\\u2060로, 액\\u2060션\\u2060 \\u2060어\\u2060드\\u2060벤\\u2060처'],\n",
              " ['어벤져스 : 인피니티 워',\n",
              "  '어벤져스와 타노스 사이의 압도적인 무한 전쟁! 우주를 관장할 수 있는 힘을 가진 인피니티 스톤을 모아 인피니티 건틀렛을 완성하려는 빌런 타노스와, 그를 막아야 하는 어벤져스 사이의 피할 수 없는 대결이 펼쳐진다. 새로운 조합을 이룬 어벤져스, 역대 최강 빌런 타노스에 맞서 세계의 운명이 걸린 인피니티 스톤을 향한 무한 대결! 마블의 클라이맥스를 경험하라!',\n",
              "  '2018',\n",
              "  'SF, 판\\u2060타\\u2060지, 슈\\u2060퍼\\u2060 \\u2060히\\u2060어\\u2060로, 액\\u2060션\\u2060 \\u2060어\\u2060드\\u2060벤\\u2060처'],\n",
              " ['어벤져스 : 엔드게임',\n",
              "  '인피니티 워 이후 절반만 살아남은 지구의 마지막 희망이 된 어벤져스\\n사라진 이들을 되살리기위해 어벤져스의 모든 것을 걸었다! \\n살아남은 자들이 준비하는, 운명을 바꿀 최후의 전쟁이 펼쳐진다!',\n",
              "  '2019',\n",
              "  'SF, 판\\u2060타\\u2060지, 슈\\u2060퍼\\u2060 \\u2060히\\u2060어\\u2060로, 액\\u2060션\\u2060 \\u2060어\\u2060드\\u2060벤\\u2060처'],\n",
              " ['어셈블: 변호사 쉬헐크 비하인드',\n",
              "  \"과감하게 '제4의 벽'을 깨고 시청자와 소통하는 이 드라마는 어떻게 탄생했을까? 타티아나 마슬라니, 마크 러팔로, 팀 로스, 베네딕트 웡 등이 마블 스튜디오 《변호사 쉬헐크》의 구상부터 제작에 이르는 비하인드 스토리를 전한다. 쉬헐크를 실감 나게 표현하기 위한 모든 노력, 타티아나 마슬라니가 '모션 캡처 슈트'를 착용하고 완벽하게 역할을 소화하는 모습, 마법 같은 시각 효과로 이 모든 것을 살려낸 편집 작업 등 제작진이 드라마의 까다로운 특색을 구현하고 마블 최초의 코미디 시리즈를 완성해 가는 과정을 따라가 보자. 마크 러팔로와 팀 로스는 이 드라마가 브루스 배너(헐크)와 에밀 블론스키(어보미네이션)라는 캐릭터에 어떻게 새로운 생명을 불어넣었는지 이야기한다. 이외에 팬들을 열광케 했던 데어데블(찰리 콕스)의 등장 등 우리가 알고 싶은 많은 이야기들이 《어셈블: 변호사 쉬헐크 비하인드》에서 공개된다.\",\n",
              "  '2022',\n",
              "  '다\\u2060큐\\u2060멘\\u2060터\\u2060리'],\n",
              " ['어셈블: 토르: 러브 앤 썬더 비하인드',\n",
              "  '감독 타이카 와이티티와 배우 크리스 헴스워스, 크리스찬 베일, 테사 톰슨, 나탈리 포트만을 비롯한 많은 출연진이『토르: 러브 앤 썬더』 제작 이면에 숨겨진 비밀에 대해 얘기한다. 출연진과 제작진의 심층 인터뷰부터 세트장과 그 너머 보이지 않는 무편집, 미공개 장면까지 모아서 천둥의 신 토르, 그 네 번째 영화의 뒷이야기를 전한다. 무엇 때문에 나탈리 포트만이 다시 토르 시리즈로 돌아왔는지, 또 나탈리 포트만이라는 대단한 배우가 마이티 토르 역에 어울리는 피지컬로 변신하기 위해 어떤 노력을 했는지 들을 수 있다. 그 뿐만 아니라, 크리스 햄스워스가 어떻게 몸을 키워, 역대 어떤 토르보다도 크고 근육이 많은 토르가 되었는지도 얘기한다. 분장실 안 크리스찬 베일과 함께, 신 도살자 ‘고르’의 불안정한 모습을 얼마나 세세하게 표현해냈는지도 볼 수 있다. 또한 『토르: 러브 앤 썬더』에 등장하는 ‘그림자 영역’과 같은 거대하고 상상을 초월하는 세트장을 둘러볼 수 있다. 특히 그림자 영역 세트에는 앞으로의 영화 산업에 영향을 줄 완전히 새로운 영화 제작 기술이 사용되었다. 토르의 창의적인 메이크업 아티스트들과 특수 효과 전문가들이 영화 속 무수히 많은 신과 괴물들을 어떻게 창조해냈는지 살펴볼 수 있다. 그리고 제우스를 연기한 배우 러셀 크로우가 현장에서 선보인 익살스러운 행동들도 담겨 있다. ‘어셈블: 토르: 러브 앤 썬더 비하인드’에는 이 모든 내용을 비롯한 많은 비하인드가 기다리고 있다.\\n\\n일부 섬광 장면이 빛에 민감한 시청자에게 영향을 줄 수 있음.',\n",
              "  '2022',\n",
              "  '다\\u2060큐\\u2060멘\\u2060터\\u2060리'],\n",
              " ['어셈블: 미즈 마블 비하인드',\n",
              "  '이만 벨라니가 마블 스튜디오의 미즈 마블이 되는 과정을 바로 곁에서 지켜보자! 이만이 오디션을 본 사연부터 코스튬 테스트와 팬들의 환호를 받는 이 캐릭터에 생명을 불어넣는 장면까지 모든 과정을 샅샅이 볼 수 있다. 두 개의 세계 사이에 끼어 살면서, 놀라운 것들을 발견하고 인생 최고의 전성기를 맞는 한 여자아이의 이야기. 여기서 우리는 이만이 자신이 연기하는 캐릭터, 카말라와 매우 비슷하며 함께 미즈 마블이 된다는 걸 알게 된다. 가족과 친구들뿐 아니라 새롭게 알게 된 슈퍼 파워와 씨름하면서 댄스도 배워야 하는 상황인데, 그 와중에 어벤져콘에 간다? 보통 노력이면 불가능하다. 흡입력 최강의 비하인드 장면들과 촬영 중 진행된 배우 및 제작진의 통찰이 담긴 인터뷰를 감상하며, 미즈 마블의 비상을 지켜보자!',\n",
              "  '2022',\n",
              "  '다\\u2060큐\\u2060멘\\u2060터\\u2060리'],\n",
              " ['어셈블: 닥터 스트레인지 대혼돈의 멀티버스 비하인드',\n",
              "  \"'닥터 스트레인지: 대혼돈의 멀티버스' 출연진 및 제작진과 함께 멀티버스의 세계로 깊숙이 들어가 본다. 감독인 샘 레이미와 영화 출연진이 마블의 가장 어두운 이야기를 영상에 옮긴 경험을 소개한다. 오랜 기다림 끝에 슈퍼히어로 장르로 돌아온 샘 레이미 감독은 이 영화에 자신만의 영화 제작 스타일을 녹여냈다. 작가 마이클 월드론이 무수한 아이디어를 소재로 협력 작업을 통해 이야기를 발전시켜 나간 이야기를 들어 본다. 베네딕트 컴버배치는 캐릭터의 암울한 면을 탐구하고자 했으며, 여러 버전의 닥터 스트레인지를 연기한 이야기를 들려준다. 완다 막시모프가 스칼렛 위치로 깜짝 변신한 뒷얘기와 엘리자베스 올슨이 악역을 연기하는 기회를 만끽한 이야기 또한 접할 수 있다. MCU에서 일찍이 보지 못한 위력을 보여 준 마블의 새 히어로 아메리카 차베즈 캐릭터를 맡은 신예 소치틀 고메스도 만나 본다. 세계는 물론 우주를 구현해야 했던 아티스트들의 이야기도 직접 들어 본다. 이들은 각각의 유니버스를 독특하고 그럴듯하게 설계하고 실제 세트로 만드느라 엄청난 공을 들였다. 영화에 등장한 다양하고 복잡했던 액션 장면이 화면에 구현되기까지는 뛰어난 시각효과와 많은 스탭들의 밀접한 협업이 필요했다. '어셈블드: 닥터 스트레인지: 대혼돈의 멀티버스 메이킹'에서 이 모든 내용을 살펴보자.\",\n",
              "  '2022',\n",
              "  '다\\u2060큐\\u2060멘\\u2060터\\u2060리'],\n",
              " ['마블 원샷: 컨설턴트',\n",
              "  '\"인크레더블 헐크\" 사건 이후, 쉴드의 필 콜슨 요원은 제스퍼 시트웰 요원에게 나쁜 소식을 들려준다. 그것은 세계안전보장이사회가 에밀 블론스키의 \"어벤져스 계획\" 참여를 원하며, 새디어스 로스 장군이 그를 풀어주려 한다는 것이다. 이사회의 요구를 거부할 수 없는 콜슨과 시트웰은 이를 방해할 계획을 세운다. 엄청난 비밀병기를 써서 말이다.',\n",
              "  '2011',\n",
              "  '드\\u2060라\\u2060마, 스\\u2060파\\u2060이/첩\\u2060보, 코\\u2060미\\u2060디, 슈\\u2060퍼\\u2060 \\u2060히\\u2060어\\u2060로'],\n",
              " ['마블 원샷: 토르의 망치를 가지러 가던 길의 기묘한 사건',\n",
              "  '토르와 쉴드가 얽히기 전, 필 콜슨 요원은 뉴멕시코로 향하다 주유소에 들른다. 군것질거리를 사러 편의점을 훑어보던 중 무장 강도 두 명이 침입해 현금을 갈취하고, 콜슨 요원의 자동차 열쇠를 뺏으려 든다. 하지만 그 강도들은 아직 눈치채지 못한 것이다. 이 온화한 생김새의 남성에겐 보이는 것 이상의 뭔가가 있단 사실을.',\n",
              "  '2011',\n",
              "  '코\\u2060미\\u2060디, 액\\u2060션\\u2060 \\u2060어\\u2060드\\u2060벤\\u2060처'],\n",
              " ['마블 원샷: 아이템47',\n",
              "  '\"어벤져스\" 뉴욕에서의 대전투 이후, 쉴드는 외계인들의 기술 장비를 모두 수집하지만 딱 하나, 블래스터 \"아이템 47\"을 찾는 데는 실패하고 만다. 이후 한 젊은 커플이 우연히 이 무기를 손에 넣어 은행 강도에 사용하기에 이르고, 쉴드 요원들은 그들을 쫓는다.',\n",
              "  '2012',\n",
              "  '드\\u2060라\\u2060마, 스\\u2060파\\u2060이/첩\\u2060보, 범\\u2060죄, 액\\u2060션\\u2060 \\u2060어\\u2060드\\u2060벤\\u2060처'],\n",
              " ['마블 원샷: 에이전트 카터',\n",
              "  '\"퍼스트 어벤져\"로부터 1년 후, 영국의 정보원 페기 카터는 전략과학부에서 데이터 분석과 암호 분석 분야에서 일하고 있다. 그는 수수께끼의 \"조디악\"을 찾는 동시에 상사인 존 플린 요원과도 맞서 싸운다. 여성을 혐오하는 관료주의자이자, 정보원의 세계에 여자가 설 자리는 없다고 생각하는 인물이다.',\n",
              "  '2013',\n",
              "  '드\\u2060라\\u2060마, 스\\u2060파\\u2060이/첩\\u2060보, 스\\u2060릴\\u2060러, 코\\u2060미\\u2060디, 액\\u2060션\\u2060 \\u2060어\\u2060드\\u2060벤\\u2060처'],\n",
              " ['가디언즈 오브 갤럭시 홀리데이 스페셜',\n",
              "  '가모라 없이 유독 쓸쓸해 보이는 피터. 그런 그를 위해 가디언즈 오브 갤럭시가 지구로 향한다. 이들의 임무는? 피터에게 잊지 못할 아주 특별한 크리스마스를 선물하는 것!\\n\\n일부 섬광 장면이 빛에 민감한 시청자에게 영향을 줄 수 있음.',\n",
              "  '2022',\n",
              "  'SF, 코\\u2060미\\u2060디, 슈\\u2060퍼\\u2060 \\u2060히\\u2060어\\u2060로, 액\\u2060션\\u2060 \\u2060어\\u2060드\\u2060벤\\u2060처'],\n",
              " ['토르: 러브 앤 썬더',\n",
              "  '난생처음 자아를 찾는 여정에 나선 천둥의 신 토르. 그러나 신을 몰살하려는 신 도살자의 등장으로 계획이 중단되고, 킹 발키리, 코르그, 그리고 옛 연인인 제인 포스터와 재회하는데. 놀랍게도 제인은 토르의 묠니르를 자유자재로 다루는 마이티 토르가 되어 나타난다. 고르는 무슨 이유로 신들에게 복수하려는 것일까? 토르는 너무 늦기 전에 그를 막을 수 있을까? 신과 신을 죽이는 자의 대결, 그 우주적 싸움이 시작된다.\\n\\n일부 섬광 장면이 빛에 민감한 시청자에게 영향을 줄 수 있음.',\n",
              "  '2022',\n",
              "  '로\\u2060맨\\u2060스, 코\\u2060미\\u2060디, 판\\u2060타\\u2060지, 슈\\u2060퍼\\u2060 \\u2060히\\u2060어\\u2060로, 액\\u2060션\\u2060 \\u2060어\\u2060드\\u2060벤\\u2060처'],\n",
              " ['변호사 쉬헐크',\n",
              "  '법으로, 또 힘으로 세상을 지키는 쉬헐크의 탄생. 평범한 검사에서 슈퍼히어로 변호사로. 우연히 헐크의 힘을 갖게 되면서 인생이 달라진 제니퍼 월터스의 이야기.\\n\\n일부 섬광 장면이 빛에 민감한 시청자에게 영향을 줄 수 있음.',\n",
              "  '2022',\n",
              "  'SF, 코\\u2060미\\u2060디, 슈\\u2060퍼\\u2060 \\u2060히\\u2060어\\u2060로, 액\\u2060션\\u2060 \\u2060어\\u2060드\\u2060벤\\u2060처'],\n",
              " ['그루트의 첫 발자국',\n",
              "  '이제 화분 밖으로 나가 보자. 첫걸음을 떼는 베이비 그루트. 하지만 달리기 전에 걸음마부터 배워야지.\\n\\n일부 섬광 장면이 빛에 민감한 시청자에게 영향을 줄 수 있음.',\n",
              "  '2022',\n",
              "  'SF, 가\\u2060족, 코\\u2060미\\u2060디, 애\\u2060니\\u2060메\\u2060이\\u2060션'],\n",
              " ['완다비전',\n",
              "  '마블 시네마틱 유니버스에 클래식 시트콤을 접목한 《완다비전》. 아름다운 교외에서 알콩달콩 행복한 결혼 생활을 시작한 완다 막시모프(엘리자베스 올슨 분)와 비전(폴 베타니 분). 어느 순간부터 그들에게 미심쩍은 일들이 하나둘씩 생기는데. 연출은 맷 샤크먼, 극본은 잭 쉐퍼가 맡았다.',\n",
              "  '2021',\n",
              "  '로\\u2060맨\\u2060스, 드\\u2060라\\u2060마, SF, 판\\u2060타\\u2060지, 슈\\u2060퍼\\u2060 \\u2060히\\u2060어\\u2060로'],\n",
              " ['로키',\n",
              "  '\"어벤져스: 엔드게임\" 이후 벌어지는 일을 그리는 마블 스튜디오의 새 시리즈, \"로키\"에서 변덕스러운 악당, 로키(톰 히들스턴)가 장난의 신 역할을 다시 시작한다. 케이트 헤론이 감독을 맡았으며, 수석 작가는 마이클 월드론이다.',\n",
              "  '2021',\n",
              "  'SF, 판\\u2060타\\u2060지, 슈\\u2060퍼\\u2060 \\u2060히\\u2060어\\u2060로, 액\\u2060션\\u2060 \\u2060어\\u2060드\\u2060벤\\u2060처'],\n",
              " ['블랙 위도우',\n",
              "  '마블 스튜디오의 액션 가득한 스파이 스릴러 \"Black Widow\"에서는 일명 블랙 위도우로 알려진 나타샤 로마노프가 나온다. 나타샤는 자신의 과거와 연결된 위험한 음모가 수면 위로 올라오자, 과거 업무의 어두웠던 면을 직면한다. 자신을 막기 위해 어떤 일도 마다하지 않는 세력에 쫓기는 나타샤는 어벤져스에 합류하기 훨씬 전에 스파이로 일했던 과거뿐 아니라, 잊고 지냈던 어긋난 인연도 해결해야 한다. 스칼렛 요한슨이 나타샤/블랙 위도우 역할을 다시 맡았고, 옐레나 역할은 플로렌스 퓨, 알렉세이/레드 가디언 역할은 데이비드 하버, 그리고 멜리나 역할은 레이철 바이스가 맡았다. 마블 영화 세계관의 4단계에서 첫 영화로 나온 \"Black Widow\"는 케이트 쇼틀랜드가 연출했고 케빈 파이기가 제작했다.\\n\\n일부 섬광 장면이 빛에 민감한 시청자에게 영향을 줄 수 있음.',\n",
              "  '2021',\n",
              "  '스\\u2060파\\u2060이/첩\\u2060보, 슈\\u2060퍼\\u2060 \\u2060히\\u2060어\\u2060로, 액\\u2060션\\u2060 \\u2060어\\u2060드\\u2060벤\\u2060처'],\n",
              " ['왓 이프...?',\n",
              "  \"'왓 이프...?'는 마블시네마틱 유니버스(MCU)의 내용을 반전시켜, 영화의 유명 사건들을 기발한 방법으로 다시 그려낸다. 마블 스튜디오의 첫 애니메이션 시리즈로 MCU의 다양한 영웅들 중심으로 내용이 전개 되며, 그 역을 맡았던 유명 스타들이 목소리 출연진으로 나온다. 감독은 브라이언 앤드루스, 수석 작가는 AC 브래들리다. \\n\\n일부 섬광 장면이 빛에 민감한 시청자에게 영향을 줄 수 있음.\",\n",
              "  '2021',\n",
              "  'SF, 연\\u2060작, 애\\u2060니\\u2060메\\u2060이\\u2060션, 슈\\u2060퍼\\u2060 \\u2060히\\u2060어\\u2060로, 액\\u2060션\\u2060 \\u2060어\\u2060드\\u2060벤\\u2060처'],\n",
              " ['캡틴 아메리카: 시빌 워',\n",
              "  '이 작품에서 스티브 로저스는 인류를 지키기 위해 지속적으로 애쓰는 어벤져스의 새로운 팀을 이끈다. 하지만 어벤져스가 연관된 다른 사건으로 부차적인 피해가 발생하자 팀을 감독하고 지휘할 이사회 주도하에 책임 체계를 설립하라는 정치적 압력이 증가한다. 새로운 상황은 어벤져스를 분열시키고 결국 두 개의 진영으로 나뉜다. 스티브 로저스가 이끄는 진영은 어벤져스가 정부의 간섭 없이 인류를 지키기를 원하고, 토니 스타크가 이끄는 진영은 정말 놀랍게도 정부의 감독과 책임을 지지하고자 한다.\\n\\n일부 섬광 장면이 빛에 민감한 시청자에게 영향을 줄 수 있음.',\n",
              "  '2016',\n",
              "  'SF, 슈\\u2060퍼\\u2060 \\u2060히\\u2060어\\u2060로, 액\\u2060션\\u2060 \\u2060어\\u2060드\\u2060벤\\u2060처'],\n",
              " ['마블 원샷: 팀 토르',\n",
              "  \"타이카 와이티티(마블의 '토르: 라그나로크')가 연출한 이 짧은 풍자적인 다큐멘터리는 마블의 '캡틴 아메리카: 시빌 워'에서 나머지 어벤져들이 서로 싸우는 동안 토로는 무엇을 하고 있었을지 보여줍니다.\",\n",
              "  '2016',\n",
              "  '코\\u2060미\\u2060디, 슈\\u2060퍼\\u2060 \\u2060히\\u2060어\\u2060로, 패\\u2060러\\u2060디'],\n",
              " ['닥터 스트레인지',\n",
              "  \"마블 스튜디오에서 선보이는 세계적으로 유명한 신경외과의사 스티븐 스트레인지에 관한 이야기. 스티븐은 끔찍한 교통사고 이후 손을 못 쓰게 되면서 인생이 완전히 바뀌어버린다. 전통 의학으로 치료가 불가능해지자, 그는 '카마르 타지'라는 신비로운 곳에서 희망을 품고 치료를 받는다. 얼마 후, 스티븐은 카마르 타지가 치료 목적의 장소가 아닌 현실을 파괴하려는 보이지 않는 암흑 세력과 싸우는 최전선이라는 것을 깨닫는다. 새로이 마법의 힘을 얻은 스티븐은 예전의 삶으로 돌아갈 것인지, 아니면 최강의 마법사로서 세상을 지킬 것인지 선택해야 하는 기로에 선다.\\n\\n일부 섬광 장면이 빛에 민감한 시청자에게 영향을 줄 수 있음.\",\n",
              "  '2016',\n",
              "  '판\\u2060타\\u2060지, 슈\\u2060퍼\\u2060 \\u2060히\\u2060어\\u2060로, 액\\u2060션\\u2060 \\u2060어\\u2060드\\u2060벤\\u2060처'],\n",
              " ['마블 원샷: 팀 토르 2',\n",
              "  '이 풍자적인 단편에서 토르와 그의 룸메이트 대릴의 너무나도 웃긴 협력 관계를 더 지켜보세요.',\n",
              "  '2016',\n",
              "  '코\\u2060미\\u2060디, 슈\\u2060퍼\\u2060 \\u2060히\\u2060어\\u2060로, 패\\u2060러\\u2060디'],\n",
              " ['아이언맨 3',\n",
              "  '뉴욕 사건의 트라우마로 인해 영웅으로서의 삶에 회의를 느끼는 토니 스타크. 그가 혼란을 겪는 사이 최악의 테러리스트 만다린을 내세운 극단주의 집단 AIM이 스타크 저택에 공격을 퍼붓는다. 이 공격으로 그에게 남은 건 망가진 수트 한 벌뿐. 모든 것을 잃어버린 그는 다시 테러의 위험으로부터 세계와 사랑하는 여인을 지켜내야 하는 동시에 머릿속을 떠나지 않던 한 가지 물음의 해답도 찾아야만 한다. 그가 아이언맨인가, 수트가 아이언맨인가?\\n\\n일부 섬광 장면이 빛에 민감한 시청자에게 영향을 줄 수 있음.',\n",
              "  '2013',\n",
              "  'SF, 슈\\u2060퍼\\u2060 \\u2060히\\u2060어\\u2060로, 액\\u2060션\\u2060 \\u2060어\\u2060드\\u2060벤\\u2060처'],\n",
              " ['마블 원샷: 에이전트 카터',\n",
              "  '\"퍼스트 어벤져\"로부터 1년 후, 영국의 정보원 페기 카터는 전략과학부에서 데이터 분석과 암호 분석 분야에서 일하고 있다. 그는 수수께끼의 \"조디악\"을 찾는 동시에 상사인 존 플린 요원과도 맞서 싸운다. 여성을 혐오하는 관료주의자이자, 정보원의 세계에 여자가 설 자리는 없다고 생각하는 인물이다.',\n",
              "  '2013',\n",
              "  '드\\u2060라\\u2060마, 스\\u2060파\\u2060이/첩\\u2060보, 스\\u2060릴\\u2060러, 코\\u2060미\\u2060디, 액\\u2060션\\u2060 \\u2060어\\u2060드\\u2060벤\\u2060처'],\n",
              " ['토르: 다크 월드',\n",
              "  '태초의 어둠이 덮친 세계, 새로운 전쟁이 시작된다! <어벤져스>의 뉴욕 사건 후, 다시 신들의 고향인 아스가르드 왕국으로 돌아간 토르(크리스 헴스워스)와 로키(톰 히들스턴). 지구를 위협한 로키는 지하 감옥에 갇히고, 토르는 아버지 오딘(안소니 홉킨스)과 함께 우주의 질서를 재정립하기 위해 나선다. 1년 후, 지구에 혼자 남은 제인(나탈리 포트만)은 우연히 태초부터 존재해 왔던 어둠의 종족 ‘다크 엘프’의 무기 ‘에테르’를 얻게 된다. 이 사실을 안 ‘다크 엘프’의 리더 ‘말레키스’는 ‘에테르’를 되찾기 위해 제인과 아스가르드를 공격하고, 토르는 사랑하는 여인 제인과 아스가르드 왕국을 지키기 위해 로키에게 위험한 동맹을 제안하게 된다.',\n",
              "  '2013',\n",
              "  'SF, 판\\u2060타\\u2060지, 슈\\u2060퍼\\u2060 \\u2060히\\u2060어\\u2060로, 액\\u2060션\\u2060 \\u2060어\\u2060드\\u2060벤\\u2060처'],\n",
              " ['마블 원샷: 왕을 경배하라',\n",
              "  '\"아이언맨 3\" 사건 이후 트레버 슬래터리는 악명의 소유자가 되고 경비가 엄중한 교도소에 감금되고 만다. 하지만 오히려 전화위복으로 유명세를 얻어 내부에서 보호를 받는 계기가 되고, 그 \"배우\"는 기쁜 마음으로 다큐멘터리 제작자와 만나 심층 인터뷰를 갖기로 한다.',\n",
              "  '2014',\n",
              "  '드\\u2060라\\u2060마, 스\\u2060릴\\u2060러, 코\\u2060미\\u2060디'],\n",
              " ['아이언맨',\n",
              "  '적지에서의 갑작스런 공격에서 살아남은 화려한 기업가 토니 스타크는 최첨단 수트를 만들어 세계를 수호하는 아이언맨이 된다. 전설적인 만화책에서 생생하게 되살려낸 아이언맨은 여타의 히어로들과는 달리 영웅으로 태어난 자가 아닌, 스스로가 만든 영웅이다.',\n",
              "  '2008',\n",
              "  'SF, 슈\\u2060퍼\\u2060 \\u2060히\\u2060어\\u2060로, 액\\u2060션\\u2060 \\u2060어\\u2060드\\u2060벤\\u2060처'],\n",
              " ['아이언맨 2',\n",
              "  '억만장자 발명가 토니 스타크는 아이언맨이라고 정체를 밝힌 뒤 자신의 기술을 군대와 공유해야 한다는 위기에 직면한다. 그는 정보가 잘못된 곳에 넘어갈 게 두려워 슈트의 비밀 공개를 망설인다. 페퍼 포츠와 로디를 곁에 둔 토니는 새로운 동맹을 맺고 강력한 새로운 적에 대항해야 한다. 와중에 자신을 무너뜨리려는 미친 사람이 존재할 뿐 아니라 목숨을 부지하기 위해 만든 기술에 의해 죽어 간다는 사실도 알게 된다. 담배 묘사를 포함하고 있다.\\n\\n일부 섬광 장면이 빛에 민감한 시청자에게 영향을 줄 수 있음.',\n",
              "  '2010',\n",
              "  'SF, 슈\\u2060퍼\\u2060 \\u2060히\\u2060어\\u2060로, 액\\u2060션\\u2060 \\u2060어\\u2060드\\u2060벤\\u2060처'],\n",
              " ['토르 : 천둥의 신',\n",
              "  '신의 세계를 어지럽힌 천둥의 신, 인간의 세계로 추방당하다! 파괴를 일삼는 ‘요툰하임’을 제압한 왕 ‘오딘’의 통치로 평화로운 나날을 보내고 있는 신의 세계 ‘아스가르드’. 오딘의 아들인 ‘토르’의 왕위 계승식이 있던 날, 요툰하임의 지배자인 ‘라우페이’는 신들 간의 평화 협정을 위반하고 아스가르드를 침입한다. 이 사건으로 인해 왕위에 오르지 못한 토르는 분노와 모욕감에 복수를 계획하고 요툰하임을 공격한다. 하지만 막강한 요툰하임의 군대에 포위된 토르는 위기에 몰리게 되고, 이를 알게 된 오딘은 토르의 오만하고 경솔한 행동에 분노해 그의 신으로서의 능력과 해머 ‘묠니르’를 박탈한 채 인간 세계 ‘미스가르드’로 추방한다.',\n",
              "  '2011',\n",
              "  '판\\u2060타\\u2060지, 슈\\u2060퍼\\u2060 \\u2060히\\u2060어\\u2060로, 액\\u2060션\\u2060 \\u2060어\\u2060드\\u2060벤\\u2060처'],\n",
              " ['마블 원샷: 컨설턴트',\n",
              "  '\"인크레더블 헐크\" 사건 이후, 쉴드의 필 콜슨 요원은 제스퍼 시트웰 요원에게 나쁜 소식을 들려준다. 그것은 세계안전보장이사회가 에밀 블론스키의 \"어벤져스 계획\" 참여를 원하며, 새디어스 로스 장군이 그를 풀어주려 한다는 것이다. 이사회의 요구를 거부할 수 없는 콜슨과 시트웰은 이를 방해할 계획을 세운다. 엄청난 비밀병기를 써서 말이다.',\n",
              "  '2011',\n",
              "  '드\\u2060라\\u2060마, 스\\u2060파\\u2060이/첩\\u2060보, 코\\u2060미\\u2060디, 슈\\u2060퍼\\u2060 \\u2060히\\u2060어\\u2060로'],\n",
              " ['퍼스트 어벤져',\n",
              "  \"군복무 부적합 판정을 받은 스티브 로저스는 극비 연구 프로젝트에 자원한다. 그는 이 프로젝트를 통해 악에 맞서 싸우는 궁극의 무기로서 자유를 위해 싸우고 미국의 이상을 지켜내는 슈퍼히어로 캡틴 아메리카가 된다. 무시무시한 세력이 전 세계를 위협하자, 세계 최고의 군인 캡틴 아메리카는 사악한 '레드 스컬'이 이끄는 악의 무리 '하이드라'와의 전쟁을 벌인다.\\n\\n일부 섬광 장면이 빛에 민감한 시청자에게 영향을 줄 수 있음.\",\n",
              "  '2011',\n",
              "  'SF, 슈\\u2060퍼\\u2060 \\u2060히\\u2060어\\u2060로, 액\\u2060션\\u2060 \\u2060어\\u2060드\\u2060벤\\u2060처'],\n",
              " ['마블 원샷: 에이전트 카터',\n",
              "  '\"퍼스트 어벤져\"로부터 1년 후, 영국의 정보원 페기 카터는 전략과학부에서 데이터 분석과 암호 분석 분야에서 일하고 있다. 그는 수수께끼의 \"조디악\"을 찾는 동시에 상사인 존 플린 요원과도 맞서 싸운다. 여성을 혐오하는 관료주의자이자, 정보원의 세계에 여자가 설 자리는 없다고 생각하는 인물이다.',\n",
              "  '2013',\n",
              "  '드\\u2060라\\u2060마, 스\\u2060파\\u2060이/첩\\u2060보, 스\\u2060릴\\u2060러, 코\\u2060미\\u2060디, 액\\u2060션\\u2060 \\u2060어\\u2060드\\u2060벤\\u2060처'],\n",
              " ['캡틴 마블',\n",
              "  '캐럴 댄버스가 우주 최강 히어로로 탄생하는 과정을 담아낸 《캡틴 마블》. 크리족 전사로 살아가던 그녀는 우연히 지구에 불시착한 후 젊은 시절의 닉 퓨리 요원에게 발견된다. 지구를 향한 거대한 위협을 감지한 둘, 힘을 합쳐 지구를 지키고자 하는데. 어벤져스의 히어로로 거듭나게 될 캡틴 마블 서사의 시작.\\n\\n일부 섬광 장면이 빛에 민감한 시청자에게 영향을 줄 수 있음.',\n",
              "  '2019',\n",
              "  'SF, 슈\\u2060퍼\\u2060 \\u2060히\\u2060어\\u2060로, 액\\u2060션\\u2060 \\u2060어\\u2060드\\u2060벤\\u2060처'],\n",
              " ['아이언맨',\n",
              "  '적지에서의 갑작스런 공격에서 살아남은 화려한 기업가 토니 스타크는 최첨단 수트를 만들어 세계를 수호하는 아이언맨이 된다. 전설적인 만화책에서 생생하게 되살려낸 아이언맨은 여타의 히어로들과는 달리 영웅으로 태어난 자가 아닌, 스스로가 만든 영웅이다.',\n",
              "  '2008',\n",
              "  'SF, 슈\\u2060퍼\\u2060 \\u2060히\\u2060어\\u2060로, 액\\u2060션\\u2060 \\u2060어\\u2060드\\u2060벤\\u2060처'],\n",
              " ['그루트의 첫 발자국',\n",
              "  '이제 화분 밖으로 나가 보자. 첫걸음을 떼는 베이비 그루트. 하지만 달리기 전에 걸음마부터 배워야지.\\n\\n일부 섬광 장면이 빛에 민감한 시청자에게 영향을 줄 수 있음.',\n",
              "  '2022',\n",
              "  'SF, 가\\u2060족, 코\\u2060미\\u2060디, 애\\u2060니\\u2060메\\u2060이\\u2060션'],\n",
              " ['작고 소중한 분',\n",
              "  '이 신기한 세상은 뭐야? 나보다 훨씬 작은 애들이 사네. 거대한 베이비 그루트 님! 여기선 내가 영웅이래.\\n\\n일부 섬광 장면이 빛에 민감한 시청자에게 영향을 줄 수 있음.',\n",
              "  '2022',\n",
              "  'SF, 가\\u2060족, 코\\u2060미\\u2060디, 애\\u2060니\\u2060메\\u2060이\\u2060션'],\n",
              " ['그루트의 수사',\n",
              "  '우주선 안에서 기분 나쁜 소리를 내는 수상한 녀석. 너 나랑 한판 붙자. 댄스 배틀로 진검승부하자고.\\n\\n일부 섬광 장면이 빛에 민감한 시청자에게 영향을 줄 수 있음.',\n",
              "  '2022',\n",
              "  'SF, 가\\u2060족, 코\\u2060미\\u2060디, 애\\u2060니\\u2060메\\u2060이\\u2060션'],\n",
              " ['그루트의 샤워타임',\n",
              "  '베이비 그루트도 럭셔리한 목욕을 즐길 자격이 있지. 앗 근데 나뭇잎이 왜 이렇게 거침없이 자라나는 거야?\\n\\n일부 섬광 장면이 빛에 민감한 시청자에게 영향을 줄 수 있음.',\n",
              "  '2022',\n",
              "  'SF, 가\\u2060족, 코\\u2060미\\u2060디, 애\\u2060니\\u2060메\\u2060이\\u2060션'],\n",
              " ['토르: 러브 앤 썬더',\n",
              "  '난생처음 자아를 찾는 여정에 나선 천둥의 신 토르. 그러나 신을 몰살하려는 신 도살자의 등장으로 계획이 중단되고, 킹 발키리, 코르그, 그리고 옛 연인인 제인 포스터와 재회하는데. 놀랍게도 제인은 토르의 묠니르를 자유자재로 다루는 마이티 토르가 되어 나타난다. 고르는 무슨 이유로 신들에게 복수하려는 것일까? 토르는 너무 늦기 전에 그를 막을 수 있을까? 신과 신을 죽이는 자의 대결, 그 우주적 싸움이 시작된다.\\n\\n일부 섬광 장면이 빛에 민감한 시청자에게 영향을 줄 수 있음.',\n",
              "  '2022',\n",
              "  '로\\u2060맨\\u2060스, 코\\u2060미\\u2060디, 판\\u2060타\\u2060지, 슈\\u2060퍼\\u2060 \\u2060히\\u2060어\\u2060로, 액\\u2060션\\u2060 \\u2060어\\u2060드\\u2060벤\\u2060처'],\n",
              " ['닥터 스트레인지: 대혼돈의 멀티버스',\n",
              "  '지금까지 알던 세계는 잊어라! 모든 경계를 넘어선 광활한 멀티버스가 열리며 전혀 다른 차원의 싸움이 시작된다. 시공간이 뒤엉킨 대혼돈 속, 온갖 위협을 마주하는 닥터 스트레인지. 강력한 힘을 소유한 새로운 적에 맞서 우주의 질서를 지켜내야만 한다.\\n\\n일부 섬광 장면이 빛에 민감한 시청자에게 영향을 줄 수 있음.',\n",
              "  '2022',\n",
              "  'SF, 판\\u2060타\\u2060지, 슈\\u2060퍼\\u2060 \\u2060히\\u2060어\\u2060로, 액\\u2060션\\u2060 \\u2060어\\u2060드\\u2060벤\\u2060처'],\n",
              " ['이터널스',\n",
              "  '마블 시네마틱 유니버스의 새 시대를 여는 슈퍼 히어로 군단의 탄생. 한국 액션 배우 마동석이 길가메시역으로 출연한 마블 스튜디오 《이터널스》는 수천 년에 걸친 그들의 대서사를 흥미진진하게 풀어낸다. 먼 우주에서 지구로 와 태초부터 인류를 지켜온 불멸의 히어로들, 그들이 다시 그 모습을 드러낸다. 인류의 가장 오래된 적인 데비안츠가 알 수 없는 이유로 돌아오면서 위험에 빠진 지구를 또 한 번 더 구해 내기 위해.\\n\\n일부 섬광 장면이 빛에 민감한 시청자에게 영향을 줄 수 있음.',\n",
              "  '2021',\n",
              "  'SF, 슈\\u2060퍼\\u2060 \\u2060히\\u2060어\\u2060로, 액\\u2060션\\u2060 \\u2060어\\u2060드\\u2060벤\\u2060처'],\n",
              " ['샹치와 텐 링즈의 전설',\n",
              "  \"시무 리우는 마블 스튜디오의 '샹치와 텐 링즈의 전설'에서 잊고 있던 자신의 과거를 마주하고, 위험한 테러 단체인 텐 링즈의 수장인 아버지와도 맞서야 하는 샹치 역할을 맡았다. 아콰피나는 샹치의 친구인 케이티를 연기했고, 멩어 장, 진법랍, 플로리안 문티누도 출연한다. 양자경과 양조위는 잉난과 쑤 웬우 역을 맡아 열연을 펼친다. '샹치와 텐 링즈의 전설'은 데스틴 대니얼 크레턴이 감독하고, 케빈 파이기와 조너선 슈워츠가 제작했으며, 루이스 데스포시토와 빅토리아 알론소, 찰스 뉴어스가 총괄 제작하였다. 각본은 데이브 캘러햄, 데스틴 대니얼 크레턴, 앤드루 래넘이, 스크린 스토리는 데이브 캘러햄과 데스틴 대니얼 크레턴이 담당했다.\\n\\n일부 섬광 장면이 빛에 민감한 시청자에게 영향을 줄 수 있음\",\n",
              "  '2021',\n",
              "  '판\\u2060타\\u2060지, 슈\\u2060퍼\\u2060 \\u2060히\\u2060어\\u2060로, 액\\u2060션\\u2060 \\u2060어\\u2060드\\u2060벤\\u2060처']]"
            ]
          },
          "execution_count": 59,
          "metadata": {},
          "output_type": "execute_result"
        }
      ],
      "source": [
        "movie"
      ]
    },
    {
      "cell_type": "markdown",
      "metadata": {
        "id": "F0zfXG2HUDd4"
      },
      "source": [
        "# 픽사 영화 크롤링"
      ]
    },
    {
      "cell_type": "code",
      "execution_count": null,
      "metadata": {
        "id": "rGO5MysoUDd4"
      },
      "outputs": [],
      "source": [
        "count = 0\n",
        "\n",
        "\n",
        "for i in range(300):\n",
        "    item_path = '.gv2-asset'\n",
        "    item = driver.find_elements(By.CSS_SELECTOR, item_path)\n",
        "    try:\n",
        "        item[i].click()\n",
        "        time.sleep(2)\n",
        "\n",
        "        title_path = '//*[@id=\"details_index\"]/div/article/div[4]/h1'\n",
        "        desc_path = '//*[@id=\"details_index\"]/div/article/div[4]/div/div[1]/p'\n",
        "        year_path = '//*[@id=\"details_index\"]/div/article/div[4]/div/div[2]/div[1]/div[2]/p[2]'\n",
        "        genre_path = '//*[@id=\"details_index\"]/div/article/div[4]/div/div[2]/div[1]/div[3]/p[2]'\n",
        "        title = driver.find_element(By.XPATH, title_path)\n",
        "        desc = driver.find_element(By.XPATH, desc_path)\n",
        "        year = driver.find_element(By.XPATH, year_path)\n",
        "        genre = driver.find_element(By.XPATH, genre_path)\n",
        "        try:\n",
        "            movie.append( [title.text, desc.text, year.text, genre.text] )\n",
        "            driver.back()\n",
        "            time.sleep(2)\n",
        "        except:\n",
        "            driver.back()\n",
        "            time.sleep(2)\n",
        "    except:\n",
        "        pass\n",
        "\n",
        "\n",
        "\n",
        "    count += 1"
      ]
    },
    {
      "cell_type": "markdown",
      "metadata": {
        "id": "Ut3E4SrSUDd4"
      },
      "source": [
        "# 내셔널지오그래픽 크롤링"
      ]
    },
    {
      "cell_type": "code",
      "execution_count": null,
      "metadata": {
        "id": "pIQ6XpljUDd5"
      },
      "outputs": [],
      "source": [
        "count = 0\n",
        "\n",
        "\n",
        "for i in range(300):\n",
        "    item_path = '.gv2-asset'\n",
        "    item = driver.find_elements(By.CSS_SELECTOR, item_path)\n",
        "    try:\n",
        "        item[i].click()\n",
        "        time.sleep(3)\n",
        "\n",
        "        title_path = '//*[@id=\"details_index\"]/div/article/div[4]/h1'\n",
        "        desc_path = '//*[@id=\"details_index\"]/div/article/div[4]/div/div[1]/p'\n",
        "        year_path = '//*[@id=\"details_index\"]/div/article/div[4]/div/div[2]/div[1]/div[2]/p[2]'\n",
        "        genre_path = '//*[@id=\"details_index\"]/div/article/div[4]/div/div[2]/div[1]/div[3]/p[2]'\n",
        "        title = driver.find_element(By.XPATH, title_path)\n",
        "        desc = driver.find_element(By.XPATH, desc_path)\n",
        "        year = driver.find_element(By.XPATH, year_path)\n",
        "        genre = driver.find_element(By.XPATH, genre_path)\n",
        "        try:\n",
        "            movie.append( [title.text, desc.text, year.text, genre.text] )\n",
        "            driver.back()\n",
        "            time.sleep(3)\n",
        "        except:\n",
        "            driver.back()\n",
        "            time.sleep(3)\n",
        "    except:\n",
        "        pass\n",
        "\n",
        "\n",
        "\n",
        "    count += 1"
      ]
    },
    {
      "cell_type": "code",
      "execution_count": null,
      "metadata": {
        "id": "3nx_3g2yUDd5"
      },
      "outputs": [],
      "source": [
        "# 결과를 데이터프레임으로 저장\n",
        "movie = pd.DataFrame(movie)\n",
        "movie.columns = ['title', 'desc','year','genre']\n",
        "movie.to_csv('movie.csv')"
      ]
    },
    {
      "cell_type": "code",
      "execution_count": null,
      "metadata": {
        "id": "5F2jmA1hUDd5"
      },
      "outputs": [],
      "source": [
        "movie.to_excel('movie.xlsx')"
      ]
    }
  ],
  "metadata": {
    "kernelspec": {
      "display_name": "Python 3 (ipykernel)",
      "language": "python",
      "name": "python3"
    },
    "language_info": {
      "codemirror_mode": {
        "name": "ipython",
        "version": 3
      },
      "file_extension": ".py",
      "mimetype": "text/x-python",
      "name": "python",
      "nbconvert_exporter": "python",
      "pygments_lexer": "ipython3",
      "version": "3.9.12"
    },
    "vscode": {
      "interpreter": {
        "hash": "aca97298169bc572c3ec470dd784ff61581ee58d26737e53ade8f07e1a83bfa3"
      }
    },
    "colab": {
      "provenance": []
    }
  },
  "nbformat": 4,
  "nbformat_minor": 0
}